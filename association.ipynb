{
 "cells": [
  {
   "cell_type": "markdown",
   "id": "6cc38e8b",
   "metadata": {},
   "source": [
    "# Simulate Transaction Data"
   ]
  },
  {
   "cell_type": "code",
   "execution_count": null,
   "id": "26e83ca3",
   "metadata": {},
   "outputs": [
    {
     "name": "stdout",
     "output_type": "stream",
     "text": [
      "Transaction 1: ['Dining table', 'Wardrobe']\n",
      "Transaction 2: ['Bookshelf', 'Bed', 'Bean Bag', 'Dining table']\n",
      "Transaction 3: ['Bean Bag', 'Dining table']\n",
      "Transaction 4: ['Bed', 'Fireplace Mantel']\n",
      "Transaction 5: ['Dining table', 'TV stand', 'Bed']\n",
      "Transaction 6: ['Bookshelf', 'Fireplace Mantel', 'TV stand', 'Chair', 'Dining table']\n",
      "Transaction 7: ['Bean Bag', 'Chair', 'Fireplace Mantel']\n",
      "Transaction 8: ['Bookshelf', 'Bean Bag', 'Chair']\n",
      "Transaction 9: ['Bed', 'Bookshelf']\n",
      "Transaction 10: ['Wardrobe', 'Bean Bag']\n"
     ]
    }
   ],
   "source": [
    "import random\n",
    "import pandas as pd\n",
    "\n",
    "# Define items\n",
    "items = ['Dining table', 'Bed', 'Chair', 'Bookshelf', 'TV stand', 'Wardrobe', 'Bean Bag', 'Fireplace Mantel']\n",
    "\n",
    "# Generate transactions\n",
    "random.seed(42)\n",
    "transactions = []\n",
    "for _ in range(10):\n",
    "    transaction = random.sample(items, random.randint(2, 5))\n",
    "    transactions.append(transaction)\n",
    "\n",
    "# View transactions\n",
    "for i, t in enumerate(transactions):\n",
    "    print(f\"Transaction {i+1}: {t}\")\n"
   ]
  },
  {
   "cell_type": "markdown",
   "id": "7dd28267",
   "metadata": {},
   "source": [
    "# Analyze with Apriori"
   ]
  },
  {
   "cell_type": "code",
   "execution_count": 3,
   "id": "d0966573",
   "metadata": {},
   "outputs": [
    {
     "name": "stdout",
     "output_type": "stream",
     "text": [
      "   support            itemsets\n",
      "0      0.5          (Bean Bag)\n",
      "1      0.4               (Bed)\n",
      "2      0.4         (Bookshelf)\n",
      "3      0.3             (Chair)\n",
      "4      0.5      (Dining table)\n",
      "5      0.3  (Fireplace Mantel)\n"
     ]
    }
   ],
   "source": [
    "from mlxtend.preprocessing import TransactionEncoder\n",
    "from mlxtend.frequent_patterns import apriori\n",
    "\n",
    "# One-hot encoding\n",
    "te = TransactionEncoder()\n",
    "te_ary = te.fit(transactions).transform(transactions)\n",
    "df = pd.DataFrame(te_ary, columns=te.columns_)\n",
    "\n",
    "# Apply Apriori\n",
    "frequent_itemsets = apriori(df, min_support=0.3, use_colnames=True)\n",
    "print(frequent_itemsets)"
   ]
  },
  {
   "cell_type": "markdown",
   "id": "691bcf68",
   "metadata": {},
   "source": [
    "# Generate Rules"
   ]
  },
  {
   "cell_type": "code",
   "execution_count": 6,
   "id": "f2e8c084",
   "metadata": {},
   "outputs": [
    {
     "name": "stdout",
     "output_type": "stream",
     "text": [
      "Empty DataFrame\n",
      "Columns: [antecedents, consequents, support, confidence, lift]\n",
      "Index: []\n"
     ]
    }
   ],
   "source": [
    "from mlxtend.frequent_patterns import association_rules\n",
    "\n",
    "# Generate rules\n",
    "rules = association_rules(frequent_itemsets, metric=\"confidence\", min_threshold=0.7)\n",
    "print(rules[['antecedents', 'consequents', 'support', 'confidence', 'lift']])\n"
   ]
  }
 ],
 "metadata": {
  "kernelspec": {
   "display_name": "Python 3",
   "language": "python",
   "name": "python3"
  },
  "language_info": {
   "codemirror_mode": {
    "name": "ipython",
    "version": 3
   },
   "file_extension": ".py",
   "mimetype": "text/x-python",
   "name": "python",
   "nbconvert_exporter": "python",
   "pygments_lexer": "ipython3",
   "version": "3.11.9"
  }
 },
 "nbformat": 4,
 "nbformat_minor": 5
}
